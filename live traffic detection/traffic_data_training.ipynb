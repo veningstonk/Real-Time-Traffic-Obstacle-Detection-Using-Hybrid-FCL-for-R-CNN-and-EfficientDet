{
 "cells": [
  {
   "cell_type": "code",
   "execution_count": 4,
   "metadata": {
    "id": "EdApVdqQEM_K",
    "pycharm": {
     "name": "#%%\n"
    }
   },
   "outputs": [
    {
     "name": "stderr",
     "output_type": "stream",
     "text": [
      "\n",
      "KeyboardInterrupt\n",
      "\n"
     ]
    }
   ],
   "source": [
    "import os\n",
    "\n",
    "import cv2\n",
    "import pandas as pd\n",
    "import numpy as np\n",
    "import matplotlib.pyplot as plt\n",
    "from PIL import Image\n",
    "\n",
    "\n",
    "from tensorflow.keras.layers import Flatten, Dense, Input, Dropout\n",
    "from tensorflow.keras.optimizers import Adam\n",
    "from tensorflow.keras.models import Model\n",
    "import keras\n",
    "from keras import layers, models\n",
    "\n",
    "from keras.applications.vgg16 import VGG16\n",
    "\n",
    "from sklearn.preprocessing import LabelBinarizer"
   ]
  },
  {
   "cell_type": "code",
   "execution_count": 1,
   "metadata": {
    "id": "WmDBhNL2Z4Hz",
    "pycharm": {
     "name": "#%%\n"
    }
   },
   "outputs": [],
   "source": [
    "TRAIN_DATA_PATH = '../data/traffic_data_old/Train'\n",
    "TRAIN_CSV = '../data/traffic_data_old/Train.csv'\n",
    "TEST_CSV = '../data/traffic_data_old/Test.csv'\n",
    "TEST_DATA_PATH = '../data/traffic_data_old'\n",
    "MODEL_PATH = '../data/traffic_data_model_2.h5'\n",
    "# SINGLE_OBJ_MODEL_PATH = '/content/single_obj_model.h5'\n",
    "CLASSES = 43\n",
    "\n",
    "# hyper-parameters\n",
    "# LEARNING_RATE = 1e-4\n",
    "# EPOCHS = 25\n",
    "# BATCH_SIZE = 32\n",
    "sample_size = 90\n",
    "test_size = int(sample_size*43*0.2)"
   ]
  },
  {
   "cell_type": "code",
   "source": [
    "print(test_size)"
   ],
   "metadata": {
    "colab": {
     "base_uri": "https://localhost:8080/"
    },
    "id": "t_WXNyYmYdbe",
    "outputId": "53db656e-9d5f-472c-bb7a-dd18de6ed47a",
    "pycharm": {
     "name": "#%%\n"
    }
   },
   "execution_count": null,
   "outputs": [
    {
     "output_type": "stream",
     "name": "stdout",
     "text": [
      "688\n"
     ]
    }
   ]
  },
  {
   "cell_type": "code",
   "source": [
    "train_csv_data = pd.read_csv(TRAIN_CSV)\n",
    "new_train_data = train_csv_data[train_csv_data.ClassId == 0].sample(n=sample_size)\n",
    "\n",
    "for i in range(1, 43):\n",
    "    cur_data = train_csv_data[train_csv_data.ClassId == i].sample(n=sample_size)\n",
    "    new_train_data = [new_train_data, cur_data]\n",
    "    new_train_data = pd.concat(new_train_data)\n"
   ],
   "metadata": {
    "id": "pCrYey5QsVNF",
    "pycharm": {
     "name": "#%%\n"
    }
   },
   "execution_count": 2,
   "outputs": [
    {
     "ename": "NameError",
     "evalue": "name 'pd' is not defined",
     "output_type": "error",
     "traceback": [
      "\u001B[0;31m---------------------------------------------------------------------------\u001B[0m",
      "\u001B[0;31mNameError\u001B[0m                                 Traceback (most recent call last)",
      "Input \u001B[0;32mIn [2]\u001B[0m, in \u001B[0;36m<cell line: 1>\u001B[0;34m()\u001B[0m\n\u001B[0;32m----> 1\u001B[0m train_csv_data \u001B[38;5;241m=\u001B[39m \u001B[43mpd\u001B[49m\u001B[38;5;241m.\u001B[39mread_csv(TRAIN_CSV)\n\u001B[1;32m      2\u001B[0m new_train_data \u001B[38;5;241m=\u001B[39m train_csv_data[train_csv_data\u001B[38;5;241m.\u001B[39mClassId \u001B[38;5;241m==\u001B[39m \u001B[38;5;241m0\u001B[39m]\u001B[38;5;241m.\u001B[39msample(n\u001B[38;5;241m=\u001B[39msample_size)\n\u001B[1;32m      4\u001B[0m \u001B[38;5;28;01mfor\u001B[39;00m i \u001B[38;5;129;01min\u001B[39;00m \u001B[38;5;28mrange\u001B[39m(\u001B[38;5;241m1\u001B[39m, \u001B[38;5;241m43\u001B[39m):\n",
      "\u001B[0;31mNameError\u001B[0m: name 'pd' is not defined"
     ]
    }
   ]
  },
  {
   "cell_type": "code",
   "source": [
    "%%time\n",
    "train_data = [] # image data\n",
    "train_targets = [] # our predictions\n",
    "train_classIds = []\n",
    "train_filenames = []\n",
    "for ind in new_train_data.index:\n",
    "    img = Image.open(TRAIN_DATA_PATH + '/../' + new_train_data.Path[ind])\n",
    "    img = img.resize((224, 224))\n",
    "    img = np.array(img)\n",
    "\n",
    "    train_data.append(img)\n",
    "\n",
    "    x1_ = new_train_data['Roi.X1'][ind] / new_train_data.Width[ind]\n",
    "    y1_ = new_train_data['Roi.Y1'][ind] / new_train_data.Height[ind]\n",
    "    x2_ = new_train_data['Roi.X2'][ind] / new_train_data.Width[ind]\n",
    "    y2_ = new_train_data['Roi.Y2'][ind] / new_train_data.Height[ind]\n",
    "    train_targets.append((x1_, y1_, x2_, y2_))\n",
    "\n",
    "    train_classIds.append(new_train_data.ClassId[ind])\n",
    "    train_filenames.append(new_train_data.Path[ind])"
   ],
   "metadata": {
    "colab": {
     "base_uri": "https://localhost:8080/"
    },
    "id": "vYZdptZdsWJZ",
    "outputId": "bc7f814b-e12a-4045-e940-87b920eed221",
    "pycharm": {
     "name": "#%%\n"
    }
   },
   "execution_count": null,
   "outputs": []
  },
  {
   "cell_type": "code",
   "source": [
    "%%time\n",
    "train_data = np.array(train_data, dtype='float') / 255.0\n",
    "train_targets = np.array(train_targets, dtype='float')\n",
    "train_filenames = np.array(train_filenames)\n",
    "train_classIds = np.array(train_classIds)\n",
    "\n",
    "lb = LabelBinarizer()\n",
    "train_classIds = lb.fit_transform(train_classIds)"
   ],
   "metadata": {
    "id": "79g2rAyGsYm7",
    "colab": {
     "base_uri": "https://localhost:8080/"
    },
    "outputId": "4e985b43-07cf-40df-e99e-84b4048b1bd4",
    "pycharm": {
     "name": "#%%\n"
    }
   },
   "execution_count": 3,
   "outputs": [
    {
     "ename": "NameError",
     "evalue": "name 'np' is not defined",
     "output_type": "error",
     "traceback": [
      "\u001B[0;31m---------------------------------------------------------------------------\u001B[0m",
      "\u001B[0;31mNameError\u001B[0m                                 Traceback (most recent call last)",
      "File \u001B[0;32m<timed exec>:1\u001B[0m, in \u001B[0;36m<module>\u001B[0;34m\u001B[0m\n",
      "\u001B[0;31mNameError\u001B[0m: name 'np' is not defined"
     ]
    }
   ]
  },
  {
   "cell_type": "code",
   "source": [
    "test_csv_data = pd.read_csv(TEST_CSV)\n",
    "new_test_data = test_csv_data.sample(n=test_size)"
   ],
   "metadata": {
    "id": "Vr55geHssauK",
    "pycharm": {
     "name": "#%%\n"
    }
   },
   "execution_count": 11,
   "outputs": []
  },
  {
   "cell_type": "code",
   "source": [
    "%%time\n",
    "test_data = [] # image data\n",
    "test_targets = [] # our predictions\n",
    "test_classIds = []\n",
    "test_filenames = []\n",
    "for ind in new_test_data.index:\n",
    "    img = Image.open(TEST_DATA_PATH + '/../' + new_test_data.Path[ind])\n",
    "    img = img.resize((224, 224))\n",
    "    img = np.array(img)\n",
    "\n",
    "    test_data.append(img)\n",
    "\n",
    "    x1_ = new_test_data['Roi.X1'][ind] / new_test_data.Width[ind]\n",
    "    y1_ = new_test_data['Roi.Y1'][ind] / new_test_data.Height[ind]\n",
    "    x2_ = new_test_data['Roi.X2'][ind] / new_test_data.Width[ind]\n",
    "    y2_ = new_test_data['Roi.Y2'][ind] / new_test_data.Height[ind]\n",
    "    test_targets.append((x1_, y1_, x2_, y2_))\n",
    "\n",
    "    test_classIds.append(new_test_data.ClassId[ind])\n",
    "    test_filenames.append(new_test_data.Path[ind])"
   ],
   "metadata": {
    "id": "O2ZX6qRSscey",
    "colab": {
     "base_uri": "https://localhost:8080/"
    },
    "outputId": "008e1e23-2c78-47d0-d323-c1c218748a82",
    "pycharm": {
     "name": "#%%\n"
    }
   },
   "execution_count": 12,
   "outputs": [
    {
     "output_type": "stream",
     "name": "stdout",
     "text": [
      "CPU times: user 822 ms, sys: 22.9 ms, total: 845 ms\n",
      "Wall time: 843 ms\n"
     ]
    }
   ]
  },
  {
   "cell_type": "code",
   "source": [
    "# new_test_data[new_test_data.ClassId == 42]\n",
    "# test_classIds.append(43)"
   ],
   "metadata": {
    "id": "CT7MtlVpZhSd",
    "pycharm": {
     "name": "#%%\n"
    }
   },
   "execution_count": 12,
   "outputs": []
  },
  {
   "cell_type": "code",
   "source": [
    "%%time\n",
    "test_data = np.array(test_data, dtype='float') / 255.0\n",
    "test_targets = np.array(test_targets, dtype='float')\n",
    "test_filenames = np.array(test_filenames)\n",
    "test_classIds = np.array(test_classIds)\n",
    "\n",
    "test_classIds = lb.fit_transform(test_classIds)\n",
    "# test_classIds = test_classIds[:-1]"
   ],
   "metadata": {
    "colab": {
     "base_uri": "https://localhost:8080/"
    },
    "id": "dKvY7qO7Xea8",
    "outputId": "61da1e85-21df-4daa-95c5-edf9af2efa4c",
    "pycharm": {
     "name": "#%%\n"
    }
   },
   "execution_count": 13,
   "outputs": [
    {
     "output_type": "stream",
     "name": "stdout",
     "text": [
      "CPU times: user 130 ms, sys: 190 ms, total: 321 ms\n",
      "Wall time: 323 ms\n"
     ]
    }
   ]
  },
  {
   "cell_type": "code",
   "source": [
    "print(len(test_classIds[0]))"
   ],
   "metadata": {
    "colab": {
     "base_uri": "https://localhost:8080/"
    },
    "id": "LRN_kyonaUbo",
    "outputId": "b0418c59-005d-4c3b-d3da-09cd3072a8e8",
    "pycharm": {
     "name": "#%%\n"
    }
   },
   "execution_count": null,
   "outputs": [
    {
     "output_type": "stream",
     "name": "stdout",
     "text": [
      "43\n"
     ]
    }
   ]
  },
  {
   "cell_type": "code",
   "source": [
    "# loading model\n",
    "multi_vgg = VGG16(weights='imagenet', include_top=False, input_tensor=Input(shape=(224, 224, 3)))\n",
    "\n",
    "# make layer untrainable\n",
    "multi_vgg.trainable = False\n",
    "\n",
    "# flattening output layer\n",
    "flatten = multi_vgg.output\n",
    "flatten_layer = Flatten()(flatten)\n",
    "\n",
    "# fully connected layer to predict bounding boxes\n",
    "fc1 = Dense(128, activation='relu')(flatten_layer)\n",
    "fc1 = Dense(64, activation='relu')(fc1)\n",
    "fc1 = Dense(32, activation='relu')(fc1)\n",
    "fc1 = Dense(4, activation='sigmoid', name='box_coodinates')(fc1)\n",
    "output1 = fc1\n",
    "\n",
    "# fully connected layer to predict classes\n",
    "fc2 = Dense(512, activation='relu')(flatten_layer)\n",
    "fc2 = Dropout(0.5)(fc2)\n",
    "fc2 = Dense(512, activation='relu')(fc2)\n",
    "fc2 = Dropout(0.5)(fc2)\n",
    "fc2 = Dense(len(lb.classes_), activation='softmax', name='class_label')(fc2)\n",
    "output2 = fc2\n",
    "\n",
    "model = Model(inputs=multi_vgg.input, outputs=(fc1, fc2))"
   ],
   "metadata": {
    "colab": {
     "base_uri": "https://localhost:8080/"
    },
    "id": "9otZyWEqXg12",
    "outputId": "aeb22955-b100-4cab-b67e-ba65e0abe590",
    "pycharm": {
     "name": "#%%\n"
    }
   },
   "execution_count": 14,
   "outputs": [
    {
     "output_type": "stream",
     "name": "stdout",
     "text": [
      "Downloading data from https://storage.googleapis.com/tensorflow/keras-applications/vgg16/vgg16_weights_tf_dim_ordering_tf_kernels_notop.h5\n",
      "58892288/58889256 [==============================] - 0s 0us/step\n",
      "58900480/58889256 [==============================] - 0s 0us/step\n"
     ]
    }
   ]
  },
  {
   "cell_type": "code",
   "source": [
    "# initialising loses and optimizer\n",
    "losses = {\n",
    "    'class_label': 'categorical_crossentropy',\n",
    "    'box_coodinates': 'mean_squared_error'\n",
    "}\n",
    "\n",
    "lossWeights = {\n",
    "    \"class_label\": 1.0,\n",
    "    \"box_coodinates\": 1.0\n",
    "}\n",
    "\n",
    "opt = Adam(learning_rate=LEARNING_RATE)\n",
    "model.compile(loss=losses, optimizer=opt, metrics=['accuracy'], loss_weights=lossWeights)\n",
    "print(model.summary())"
   ],
   "metadata": {
    "colab": {
     "base_uri": "https://localhost:8080/"
    },
    "id": "Q2kHDF16XlxX",
    "outputId": "db221b1a-86ed-44d1-d992-5ccc46c41331",
    "pycharm": {
     "name": "#%%\n"
    }
   },
   "execution_count": 15,
   "outputs": [
    {
     "output_type": "stream",
     "name": "stdout",
     "text": [
      "Model: \"model\"\n",
      "__________________________________________________________________________________________________\n",
      " Layer (type)                   Output Shape         Param #     Connected to                     \n",
      "==================================================================================================\n",
      " input_1 (InputLayer)           [(None, 224, 224, 3  0           []                               \n",
      "                                )]                                                                \n",
      "                                                                                                  \n",
      " block1_conv1 (Conv2D)          (None, 224, 224, 64  1792        ['input_1[0][0]']                \n",
      "                                )                                                                 \n",
      "                                                                                                  \n",
      " block1_conv2 (Conv2D)          (None, 224, 224, 64  36928       ['block1_conv1[0][0]']           \n",
      "                                )                                                                 \n",
      "                                                                                                  \n",
      " block1_pool (MaxPooling2D)     (None, 112, 112, 64  0           ['block1_conv2[0][0]']           \n",
      "                                )                                                                 \n",
      "                                                                                                  \n",
      " block2_conv1 (Conv2D)          (None, 112, 112, 12  73856       ['block1_pool[0][0]']            \n",
      "                                8)                                                                \n",
      "                                                                                                  \n",
      " block2_conv2 (Conv2D)          (None, 112, 112, 12  147584      ['block2_conv1[0][0]']           \n",
      "                                8)                                                                \n",
      "                                                                                                  \n",
      " block2_pool (MaxPooling2D)     (None, 56, 56, 128)  0           ['block2_conv2[0][0]']           \n",
      "                                                                                                  \n",
      " block3_conv1 (Conv2D)          (None, 56, 56, 256)  295168      ['block2_pool[0][0]']            \n",
      "                                                                                                  \n",
      " block3_conv2 (Conv2D)          (None, 56, 56, 256)  590080      ['block3_conv1[0][0]']           \n",
      "                                                                                                  \n",
      " block3_conv3 (Conv2D)          (None, 56, 56, 256)  590080      ['block3_conv2[0][0]']           \n",
      "                                                                                                  \n",
      " block3_pool (MaxPooling2D)     (None, 28, 28, 256)  0           ['block3_conv3[0][0]']           \n",
      "                                                                                                  \n",
      " block4_conv1 (Conv2D)          (None, 28, 28, 512)  1180160     ['block3_pool[0][0]']            \n",
      "                                                                                                  \n",
      " block4_conv2 (Conv2D)          (None, 28, 28, 512)  2359808     ['block4_conv1[0][0]']           \n",
      "                                                                                                  \n",
      " block4_conv3 (Conv2D)          (None, 28, 28, 512)  2359808     ['block4_conv2[0][0]']           \n",
      "                                                                                                  \n",
      " block4_pool (MaxPooling2D)     (None, 14, 14, 512)  0           ['block4_conv3[0][0]']           \n",
      "                                                                                                  \n",
      " block5_conv1 (Conv2D)          (None, 14, 14, 512)  2359808     ['block4_pool[0][0]']            \n",
      "                                                                                                  \n",
      " block5_conv2 (Conv2D)          (None, 14, 14, 512)  2359808     ['block5_conv1[0][0]']           \n",
      "                                                                                                  \n",
      " block5_conv3 (Conv2D)          (None, 14, 14, 512)  2359808     ['block5_conv2[0][0]']           \n",
      "                                                                                                  \n",
      " block5_pool (MaxPooling2D)     (None, 7, 7, 512)    0           ['block5_conv3[0][0]']           \n",
      "                                                                                                  \n",
      " flatten (Flatten)              (None, 25088)        0           ['block5_pool[0][0]']            \n",
      "                                                                                                  \n",
      " dense_3 (Dense)                (None, 512)          12845568    ['flatten[0][0]']                \n",
      "                                                                                                  \n",
      " dense (Dense)                  (None, 128)          3211392     ['flatten[0][0]']                \n",
      "                                                                                                  \n",
      " dropout (Dropout)              (None, 512)          0           ['dense_3[0][0]']                \n",
      "                                                                                                  \n",
      " dense_1 (Dense)                (None, 64)           8256        ['dense[0][0]']                  \n",
      "                                                                                                  \n",
      " dense_4 (Dense)                (None, 512)          262656      ['dropout[0][0]']                \n",
      "                                                                                                  \n",
      " dense_2 (Dense)                (None, 32)           2080        ['dense_1[0][0]']                \n",
      "                                                                                                  \n",
      " dropout_1 (Dropout)            (None, 512)          0           ['dense_4[0][0]']                \n",
      "                                                                                                  \n",
      " box_coodinates (Dense)         (None, 4)            132         ['dense_2[0][0]']                \n",
      "                                                                                                  \n",
      " class_label (Dense)            (None, 43)           22059       ['dropout_1[0][0]']              \n",
      "                                                                                                  \n",
      "==================================================================================================\n",
      "Total params: 31,066,831\n",
      "Trainable params: 16,352,143\n",
      "Non-trainable params: 14,714,688\n",
      "__________________________________________________________________________________________________\n",
      "None\n"
     ]
    }
   ]
  },
  {
   "cell_type": "code",
   "source": [
    "train_outputs = {\n",
    "    'class_label': train_classIds,\n",
    "    'box_coodinates': train_targets\n",
    "}\n",
    "\n",
    "test_outputs = {\n",
    "    'class_label': test_classIds,\n",
    "    'box_coodinates': test_targets\n",
    "}"
   ],
   "metadata": {
    "id": "qM7wi9l6Xj3l",
    "pycharm": {
     "name": "#%%\n"
    }
   },
   "execution_count": 16,
   "outputs": []
  },
  {
   "cell_type": "code",
   "source": [
    "print(len(test_outputs['class_label'][0]))"
   ],
   "metadata": {
    "colab": {
     "base_uri": "https://localhost:8080/"
    },
    "id": "rG41EYj0ZBWj",
    "outputId": "9ed6ee73-d6e9-4533-c52d-4c6ba5d046d2",
    "pycharm": {
     "name": "#%%\n"
    }
   },
   "execution_count": 17,
   "outputs": [
    {
     "output_type": "stream",
     "name": "stdout",
     "text": [
      "43\n"
     ]
    }
   ]
  },
  {
   "cell_type": "code",
   "source": [
    "history = model.fit(train_data, train_outputs, validation_data=(test_data, test_outputs), batch_size=BATCH_SIZE, epochs=EPOCHS, verbose=1)"
   ],
   "metadata": {
    "colab": {
     "base_uri": "https://localhost:8080/"
    },
    "id": "1n5zW8Y4XvVQ",
    "outputId": "97595e7c-a9e7-4ca0-f084-07cc66035e13",
    "pycharm": {
     "name": "#%%\n"
    }
   },
   "execution_count": 18,
   "outputs": [
    {
     "output_type": "stream",
     "name": "stdout",
     "text": [
      "Epoch 1/25\n",
      "121/121 [==============================] - 42s 224ms/step - loss: 3.6676 - box_coodinates_loss: 0.0054 - class_label_loss: 3.6622 - box_coodinates_accuracy: 0.5282 - class_label_accuracy: 0.0646 - val_loss: 3.4026 - val_box_coodinates_loss: 6.1064e-04 - val_class_label_loss: 3.4020 - val_box_coodinates_accuracy: 0.5439 - val_class_label_accuracy: 0.1189\n",
      "Epoch 2/25\n",
      "121/121 [==============================] - 22s 183ms/step - loss: 3.2239 - box_coodinates_loss: 5.0554e-04 - class_label_loss: 3.2234 - box_coodinates_accuracy: 0.5537 - class_label_accuracy: 0.1444 - val_loss: 2.9736 - val_box_coodinates_loss: 4.8573e-04 - val_class_label_loss: 2.9731 - val_box_coodinates_accuracy: 0.5323 - val_class_label_accuracy: 0.2855\n",
      "Epoch 3/25\n",
      "121/121 [==============================] - 23s 187ms/step - loss: 2.9129 - box_coodinates_loss: 4.1446e-04 - class_label_loss: 2.9125 - box_coodinates_accuracy: 0.5649 - class_label_accuracy: 0.2140 - val_loss: 2.6990 - val_box_coodinates_loss: 4.2898e-04 - val_class_label_loss: 2.6986 - val_box_coodinates_accuracy: 0.5866 - val_class_label_accuracy: 0.3282\n",
      "Epoch 4/25\n",
      "121/121 [==============================] - 23s 188ms/step - loss: 2.6162 - box_coodinates_loss: 3.6298e-04 - class_label_loss: 2.6158 - box_coodinates_accuracy: 0.5749 - class_label_accuracy: 0.2674 - val_loss: 2.3823 - val_box_coodinates_loss: 3.9013e-04 - val_class_label_loss: 2.3819 - val_box_coodinates_accuracy: 0.5401 - val_class_label_accuracy: 0.3837\n",
      "Epoch 5/25\n",
      "121/121 [==============================] - 23s 190ms/step - loss: 2.3933 - box_coodinates_loss: 3.2461e-04 - class_label_loss: 2.3930 - box_coodinates_accuracy: 0.5853 - class_label_accuracy: 0.3375 - val_loss: 2.2444 - val_box_coodinates_loss: 3.6837e-04 - val_class_label_loss: 2.2440 - val_box_coodinates_accuracy: 0.5517 - val_class_label_accuracy: 0.3824\n",
      "Epoch 6/25\n",
      "121/121 [==============================] - 23s 194ms/step - loss: 2.1657 - box_coodinates_loss: 2.9983e-04 - class_label_loss: 2.1654 - box_coodinates_accuracy: 0.5855 - class_label_accuracy: 0.3829 - val_loss: 2.0607 - val_box_coodinates_loss: 3.5642e-04 - val_class_label_loss: 2.0604 - val_box_coodinates_accuracy: 0.4961 - val_class_label_accuracy: 0.4470\n",
      "Epoch 7/25\n",
      "121/121 [==============================] - 24s 195ms/step - loss: 1.9741 - box_coodinates_loss: 2.8155e-04 - class_label_loss: 1.9739 - box_coodinates_accuracy: 0.5946 - class_label_accuracy: 0.4437 - val_loss: 1.9589 - val_box_coodinates_loss: 3.3630e-04 - val_class_label_loss: 1.9586 - val_box_coodinates_accuracy: 0.5698 - val_class_label_accuracy: 0.4509\n",
      "Epoch 8/25\n",
      "121/121 [==============================] - 23s 194ms/step - loss: 1.7842 - box_coodinates_loss: 2.5962e-04 - class_label_loss: 1.7840 - box_coodinates_accuracy: 0.5977 - class_label_accuracy: 0.4982 - val_loss: 1.8012 - val_box_coodinates_loss: 3.5142e-04 - val_class_label_loss: 1.8008 - val_box_coodinates_accuracy: 0.5724 - val_class_label_accuracy: 0.4884\n",
      "Epoch 9/25\n",
      "121/121 [==============================] - 23s 194ms/step - loss: 1.6577 - box_coodinates_loss: 2.3662e-04 - class_label_loss: 1.6574 - box_coodinates_accuracy: 0.6129 - class_label_accuracy: 0.5181 - val_loss: 1.6822 - val_box_coodinates_loss: 3.3626e-04 - val_class_label_loss: 1.6819 - val_box_coodinates_accuracy: 0.6008 - val_class_label_accuracy: 0.5129\n",
      "Epoch 10/25\n",
      "121/121 [==============================] - 23s 194ms/step - loss: 1.5187 - box_coodinates_loss: 2.3152e-04 - class_label_loss: 1.5184 - box_coodinates_accuracy: 0.6109 - class_label_accuracy: 0.5680 - val_loss: 1.6354 - val_box_coodinates_loss: 3.5596e-04 - val_class_label_loss: 1.6351 - val_box_coodinates_accuracy: 0.5969 - val_class_label_accuracy: 0.5207\n",
      "Epoch 11/25\n",
      "121/121 [==============================] - 23s 194ms/step - loss: 1.4192 - box_coodinates_loss: 2.1372e-04 - class_label_loss: 1.4190 - box_coodinates_accuracy: 0.6326 - class_label_accuracy: 0.5956 - val_loss: 1.5234 - val_box_coodinates_loss: 3.2309e-04 - val_class_label_loss: 1.5231 - val_box_coodinates_accuracy: 0.6008 - val_class_label_accuracy: 0.5685\n",
      "Epoch 12/25\n",
      "121/121 [==============================] - 23s 194ms/step - loss: 1.3338 - box_coodinates_loss: 2.0336e-04 - class_label_loss: 1.3336 - box_coodinates_accuracy: 0.6207 - class_label_accuracy: 0.6134 - val_loss: 1.4708 - val_box_coodinates_loss: 3.2229e-04 - val_class_label_loss: 1.4705 - val_box_coodinates_accuracy: 0.5853 - val_class_label_accuracy: 0.5840\n",
      "Epoch 13/25\n",
      "121/121 [==============================] - 23s 194ms/step - loss: 1.2163 - box_coodinates_loss: 1.9588e-04 - class_label_loss: 1.2162 - box_coodinates_accuracy: 0.6424 - class_label_accuracy: 0.6512 - val_loss: 1.4193 - val_box_coodinates_loss: 3.3156e-04 - val_class_label_loss: 1.4190 - val_box_coodinates_accuracy: 0.5517 - val_class_label_accuracy: 0.6085\n",
      "Epoch 14/25\n",
      "121/121 [==============================] - 23s 194ms/step - loss: 1.1701 - box_coodinates_loss: 1.9445e-04 - class_label_loss: 1.1699 - box_coodinates_accuracy: 0.6455 - class_label_accuracy: 0.6649 - val_loss: 1.3514 - val_box_coodinates_loss: 3.0328e-04 - val_class_label_loss: 1.3511 - val_box_coodinates_accuracy: 0.5323 - val_class_label_accuracy: 0.6021\n",
      "Epoch 15/25\n",
      "121/121 [==============================] - 23s 194ms/step - loss: 1.1059 - box_coodinates_loss: 1.7796e-04 - class_label_loss: 1.1058 - box_coodinates_accuracy: 0.6468 - class_label_accuracy: 0.6775 - val_loss: 1.3246 - val_box_coodinates_loss: 3.2300e-04 - val_class_label_loss: 1.3243 - val_box_coodinates_accuracy: 0.5013 - val_class_label_accuracy: 0.6021\n",
      "Epoch 16/25\n",
      "121/121 [==============================] - 24s 195ms/step - loss: 1.0306 - box_coodinates_loss: 1.6947e-04 - class_label_loss: 1.0304 - box_coodinates_accuracy: 0.6460 - class_label_accuracy: 0.7049 - val_loss: 1.2873 - val_box_coodinates_loss: 3.2667e-04 - val_class_label_loss: 1.2870 - val_box_coodinates_accuracy: 0.5801 - val_class_label_accuracy: 0.6292\n",
      "Epoch 17/25\n",
      "121/121 [==============================] - 23s 194ms/step - loss: 0.9887 - box_coodinates_loss: 1.6125e-04 - class_label_loss: 0.9885 - box_coodinates_accuracy: 0.6636 - class_label_accuracy: 0.7106 - val_loss: 1.2877 - val_box_coodinates_loss: 3.0339e-04 - val_class_label_loss: 1.2874 - val_box_coodinates_accuracy: 0.6047 - val_class_label_accuracy: 0.6111\n",
      "Epoch 18/25\n",
      "121/121 [==============================] - 24s 195ms/step - loss: 0.9318 - box_coodinates_loss: 1.5816e-04 - class_label_loss: 0.9317 - box_coodinates_accuracy: 0.6584 - class_label_accuracy: 0.7282 - val_loss: 1.2403 - val_box_coodinates_loss: 3.0233e-04 - val_class_label_loss: 1.2400 - val_box_coodinates_accuracy: 0.5956 - val_class_label_accuracy: 0.6408\n",
      "Epoch 19/25\n",
      "121/121 [==============================] - 24s 195ms/step - loss: 0.8789 - box_coodinates_loss: 1.5657e-04 - class_label_loss: 0.8787 - box_coodinates_accuracy: 0.6700 - class_label_accuracy: 0.7403 - val_loss: 1.2169 - val_box_coodinates_loss: 3.1466e-04 - val_class_label_loss: 1.2166 - val_box_coodinates_accuracy: 0.5814 - val_class_label_accuracy: 0.6382\n",
      "Epoch 20/25\n",
      "121/121 [==============================] - 23s 194ms/step - loss: 0.8308 - box_coodinates_loss: 1.5864e-04 - class_label_loss: 0.8306 - box_coodinates_accuracy: 0.6571 - class_label_accuracy: 0.7602 - val_loss: 1.1860 - val_box_coodinates_loss: 2.9651e-04 - val_class_label_loss: 1.1857 - val_box_coodinates_accuracy: 0.5607 - val_class_label_accuracy: 0.6525\n",
      "Epoch 21/25\n",
      "121/121 [==============================] - 23s 194ms/step - loss: 0.7916 - box_coodinates_loss: 1.4697e-04 - class_label_loss: 0.7915 - box_coodinates_accuracy: 0.6661 - class_label_accuracy: 0.7682 - val_loss: 1.1338 - val_box_coodinates_loss: 2.9718e-04 - val_class_label_loss: 1.1335 - val_box_coodinates_accuracy: 0.6008 - val_class_label_accuracy: 0.6525\n",
      "Epoch 22/25\n",
      "121/121 [==============================] - 23s 194ms/step - loss: 0.7394 - box_coodinates_loss: 1.4785e-04 - class_label_loss: 0.7393 - box_coodinates_accuracy: 0.6755 - class_label_accuracy: 0.7894 - val_loss: 1.1202 - val_box_coodinates_loss: 3.7834e-04 - val_class_label_loss: 1.1199 - val_box_coodinates_accuracy: 0.4961 - val_class_label_accuracy: 0.6576\n",
      "Epoch 23/25\n",
      "121/121 [==============================] - 23s 194ms/step - loss: 0.7426 - box_coodinates_loss: 1.5582e-04 - class_label_loss: 0.7424 - box_coodinates_accuracy: 0.6599 - class_label_accuracy: 0.7837 - val_loss: 1.1136 - val_box_coodinates_loss: 3.3374e-04 - val_class_label_loss: 1.1133 - val_box_coodinates_accuracy: 0.5581 - val_class_label_accuracy: 0.6628\n",
      "Epoch 24/25\n",
      "121/121 [==============================] - 23s 194ms/step - loss: 0.7063 - box_coodinates_loss: 1.2806e-04 - class_label_loss: 0.7062 - box_coodinates_accuracy: 0.6935 - class_label_accuracy: 0.8054 - val_loss: 1.0520 - val_box_coodinates_loss: 3.1512e-04 - val_class_label_loss: 1.0517 - val_box_coodinates_accuracy: 0.5336 - val_class_label_accuracy: 0.6835\n",
      "Epoch 25/25\n",
      "121/121 [==============================] - 23s 194ms/step - loss: 0.6588 - box_coodinates_loss: 1.2740e-04 - class_label_loss: 0.6587 - box_coodinates_accuracy: 0.6835 - class_label_accuracy: 0.8070 - val_loss: 1.0789 - val_box_coodinates_loss: 3.4875e-04 - val_class_label_loss: 1.0785 - val_box_coodinates_accuracy: 0.5788 - val_class_label_accuracy: 0.6835\n"
     ]
    }
   ]
  },
  {
   "cell_type": "code",
   "source": [
    "model.save(MODEL_PATH)"
   ],
   "metadata": {
    "id": "fNOwtumPXxr4",
    "pycharm": {
     "name": "#%%\n"
    }
   },
   "execution_count": 19,
   "outputs": []
  },
  {
   "cell_type": "code",
   "source": [],
   "metadata": {
    "id": "X7s313DsfmXS",
    "pycharm": {
     "name": "#%%\n"
    }
   },
   "execution_count": null,
   "outputs": []
  }
 ],
 "metadata": {
  "accelerator": "GPU",
  "colab": {
   "collapsed_sections": [],
   "name": "traffic_data_training.ipynb",
   "provenance": []
  },
  "kernelspec": {
   "display_name": "Python 3",
   "name": "python3"
  },
  "language_info": {
   "name": "python"
  }
 },
 "nbformat": 4,
 "nbformat_minor": 0
}